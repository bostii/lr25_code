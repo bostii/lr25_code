{
 "metadata": {
  "name": "",
  "signature": "sha256:8fd54870f53f9aaba8ebb63c8c0807970ffc495b8ec04dfce1bf7ad825f5daaa"
 },
 "nbformat": 3,
 "nbformat_minor": 0,
 "worksheets": []
}