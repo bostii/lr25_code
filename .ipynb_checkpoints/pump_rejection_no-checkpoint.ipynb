{
 "metadata": {
  "name": "",
  "signature": "sha256:ca58f0de62969123072c632e351d677e666e2ac844b03c7b7b659ef5ed3ef220"
 },
 "nbformat": 3,
 "nbformat_minor": 0,
 "worksheets": []
}