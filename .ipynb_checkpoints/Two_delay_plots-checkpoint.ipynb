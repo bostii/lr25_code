{
 "metadata": {
  "name": "",
  "signature": "sha256:4f832fd996cda3d0d69d16f28be5cea077f7d5b3ba6fa5387f78e2c85c7322f6"
 },
 "nbformat": 3,
 "nbformat_minor": 0,
 "worksheets": [
  {
   "cells": [
    {
     "cell_type": "code",
     "collapsed": false,
     "input": [
      "from psana import *\n",
      "import numpy as np\n",
      "import os\n",
      "import matplotlib.pyplot as plt\n",
      "from skbeam.core.accumulators.histogram import Histogram\n",
      "%matplotlib nbagg\n",
      "\n",
      "run = 77\n",
      "folder = \"/reg/d/psdm/AMO/amolr2516/results/npzfiles/run00%d\" %run\n",
      "files = os.listdir(folder)"
     ],
     "language": "python",
     "metadata": {},
     "outputs": []
    }
   ],
   "metadata": {}
  }
 ]
}