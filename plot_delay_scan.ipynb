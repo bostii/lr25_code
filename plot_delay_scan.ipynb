{
 "metadata": {
  "name": "",
  "signature": "sha256:fbc01e7b2e25bbbbaddf56bc56a66fdc2c13bd986dcfaea13d490c1aa1db35d4"
 },
 "nbformat": 3,
 "nbformat_minor": 0,
 "worksheets": [
  {
   "cells": [
    {
     "cell_type": "code",
     "collapsed": false,
     "input": [
      "from psana import *\n",
      "import matplotlib.pyplot as plt\n",
      "%matplotlib nbagg\n",
      "import sys\n",
      "import numpy as np\n",
      "sys.path.append('/reg/neh/home/sjarosch/LR25_Analysis/PythonRoutines')"
     ],
     "language": "python",
     "metadata": {},
     "outputs": [],
     "prompt_number": 1
    },
    {
     "cell_type": "code",
     "collapsed": false,
     "input": [
      "run= 77\n",
      "filename = \"../lr25_code/npz/ana_delay_scan_run_%d.npz\" %run\n",
      "arr = np.load(filename)"
     ],
     "language": "python",
     "metadata": {},
     "outputs": []
    },
    {
     "cell_type": "code",
     "collapsed": false,
     "input": [
      "arr.keys()"
     ],
     "language": "python",
     "metadata": {},
     "outputs": []
    },
    {
     "cell_type": "code",
     "collapsed": false,
     "input": [
      "#import matplotlib.pylab as pl\n",
      "plt.figure()\n",
      "#colors = pl.cm.jet(np.linspace(0,1,7))\n",
      "#ct = 0\n",
      "for num in range(3,9):\n",
      "    #ct+=1\n",
      "    #minat = np.argmin(np.abs(arr[arr.keys()[0]][1]-412))\n",
      "    #values=arr[arr.keys()[2]][num,minat]/arr[arr.keys()[3]][num,minat]\n",
      "    plt.plot(arr[arr.keys()[0]][1],arr[arr.keys()[2]][num,:]/arr[arr.keys()[3]][num,:],label=arr[arr.keys()[0]][0][num])\n",
      "plt.legend()"
     ],
     "language": "python",
     "metadata": {},
     "outputs": []
    }
   ],
   "metadata": {}
  }
 ]
}