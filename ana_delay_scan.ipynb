{
 "metadata": {
  "name": "",
  "signature": "sha256:e5a282e0c2e3d1f47276f3e1724fc0fd83b2ab9ab7b7c432cb0b7a5f46a8cf8e"
 },
 "nbformat": 3,
 "nbformat_minor": 0,
 "worksheets": [
  {
   "cells": [
    {
     "cell_type": "code",
     "collapsed": false,
     "input": [
      "from psana import *\n",
      "import numpy as np\n",
      "import os\n",
      "import matplotlib.pyplot as plt\n",
      "from skbeam.core.accumulators.histogram import Histogram\n",
      "%matplotlib nbagg\n",
      "\n",
      "run = 77\n",
      "folder = \"/reg/d/psdm/AMO/amolr2516/results/npzfiles/run00%d\" %run\n",
      "files = os.listdir(folder)"
     ],
     "language": "python",
     "metadata": {},
     "outputs": [],
     "prompt_number": 1
    },
    {
     "cell_type": "code",
     "collapsed": false,
     "input": [
      "#Histogramm variables\n",
      "GD_bins = 10\n",
      "GD_min = 0.0\n",
      "#GD_max = max value in first file\n",
      "\n",
      "energy1_bins = 10\n",
      "#energy1_min =\n",
      "#energy1_max =\n",
      "\n",
      "energy2_bins = 10\n",
      "#energy2_min = \n",
      "#energy2_max =\n",
      "\n",
      "SHESpix_bins = 714\n",
      "SHES_pix_min = 0\n",
      "SHES_pix_max = 714\n"
     ],
     "language": "python",
     "metadata": {},
     "outputs": [],
     "prompt_number": 2
    },
    {
     "cell_type": "code",
     "collapsed": false,
     "input": [
      "for nfi,fi in enumerate(files):\n",
      "    data=np.load(os.path.join(folder,fi))\n",
      "    evtnr=len(data['GasDetector'][:,0])\n",
      "    if nfi==0:\n",
      "        GD_max=np.nanmax(data['GasDetector'][:,0])\n",
      "        energies_1_pos = np.asarray(data['UXSpc'][:,0])\n",
      "        energies_2_pos = np.asarray(data['UXSpc'][:,3])\n",
      "        energies_pos = np.sort(np.vstack((energies_1_pos,energies_2_pos)),axis=0)\n",
      "        #energy1_mean = np.nanmean(energies_pos[0])\n",
      "        #energy2_mean = np.nanmean(energies_pos[1])\n",
      "        energy1_mean = 550\n",
      "        energy2_mean = 750\n",
      "        energy1_min = energy1_mean-100\n",
      "        energy1_max = energy1_mean+100\n",
      "        energy2_min = energy2_mean-100\n",
      "        energy2_max = energy2_mean+100\n",
      "        energy_threshold = 0.1*np.nanmean(data['UXSpc'][:,2])\n",
      "        \n",
      "        #bin: (GD),(energy_1),(energy_2),(SHS_pix)\n",
      "        His2d = Histogram((GD_bins,GD_min,GD_max),(energy1_bins,energy1_min,energy1_max), \\\n",
      "                          (energy2_bins,energy2_min,energy2_max),(SHESpix_bins,SHES_pix_min,SHES_pix_max))\n",
      "        His2d_w = Histogram((GD_bins,GD_min,GD_max),(energy1_bins,energy1_min,energy1_max), \\\n",
      "                          (energy2_bins,energy2_min,energy2_max),(SHESpix_bins,SHES_pix_min,SHES_pix_max))\n",
      "    \n",
      "    for evt in range(evtnr):\n",
      "        #check for threshold of intensity in both pulses\n",
      "        UXSpc=np.asarray(data['UXSpc'][evt,:])\n",
      "        if UXSpc[2]<energy_threshold or UXSpc[5]<energy_threshold or data['GasDetector'][evt,0]<GD_min:\n",
      "            continue\n",
      "        if UXSpc[0]>UXSpc[3]:\n",
      "            UXSpc=np.roll(UXSpc,3)\n",
      "        values= list(np.nan_to_num(np.asarray(data['SHESwf'][evt,:])))\n",
      "        His2d.fill(list(data['GasDetector'][evt,0]*np.ones(714)),list(UXSpc[0]*np.ones(714)),\\\n",
      "                   list(UXSpc[3]*np.ones(714)),range(714))\n",
      "        His2d_w.fill(list(data['GasDetector'][evt,0]*np.ones(714)),list(UXSpc[0]*np.ones(714)),\\\n",
      "                     list(UXSpc[3]*np.ones(714)),range(714),weights=values)\n",
      "    print \"%.2f done\" %(float(nfi+1)/len(files))\n",
      "print \"done\""
     ],
     "language": "python",
     "metadata": {},
     "outputs": [
      {
       "output_type": "stream",
       "stream": "stdout",
       "text": [
        "0.02 done\n",
        "0.03 done"
       ]
      },
      {
       "output_type": "stream",
       "stream": "stdout",
       "text": [
        "\n",
        "0.05 done"
       ]
      },
      {
       "output_type": "stream",
       "stream": "stdout",
       "text": [
        "\n",
        "0.06 done"
       ]
      },
      {
       "output_type": "stream",
       "stream": "stdout",
       "text": [
        "\n",
        "0.08 done"
       ]
      },
      {
       "output_type": "stream",
       "stream": "stdout",
       "text": [
        "\n",
        "0.09 done"
       ]
      },
      {
       "output_type": "stream",
       "stream": "stdout",
       "text": [
        "\n",
        "0.11 done"
       ]
      },
      {
       "output_type": "stream",
       "stream": "stdout",
       "text": [
        "\n",
        "0.12 done"
       ]
      },
      {
       "output_type": "stream",
       "stream": "stdout",
       "text": [
        "\n",
        "0.14 done"
       ]
      },
      {
       "output_type": "stream",
       "stream": "stdout",
       "text": [
        "\n",
        "0.16 done"
       ]
      },
      {
       "output_type": "stream",
       "stream": "stdout",
       "text": [
        "\n",
        "0.17 done"
       ]
      },
      {
       "output_type": "stream",
       "stream": "stdout",
       "text": [
        "\n",
        "0.19 done"
       ]
      },
      {
       "output_type": "stream",
       "stream": "stdout",
       "text": [
        "\n",
        "0.20 done"
       ]
      },
      {
       "output_type": "stream",
       "stream": "stdout",
       "text": [
        "\n",
        "0.22 done"
       ]
      },
      {
       "output_type": "stream",
       "stream": "stdout",
       "text": [
        "\n",
        "0.23 done"
       ]
      },
      {
       "output_type": "stream",
       "stream": "stdout",
       "text": [
        "\n",
        "0.25 done"
       ]
      },
      {
       "output_type": "stream",
       "stream": "stdout",
       "text": [
        "\n",
        "0.27 done"
       ]
      },
      {
       "output_type": "stream",
       "stream": "stdout",
       "text": [
        "\n",
        "0.28 done"
       ]
      },
      {
       "output_type": "stream",
       "stream": "stdout",
       "text": [
        "\n",
        "0.30 done"
       ]
      },
      {
       "output_type": "stream",
       "stream": "stdout",
       "text": [
        "\n",
        "0.31 done"
       ]
      },
      {
       "output_type": "stream",
       "stream": "stdout",
       "text": [
        "\n",
        "0.33 done"
       ]
      },
      {
       "output_type": "stream",
       "stream": "stdout",
       "text": [
        "\n",
        "0.34 done"
       ]
      },
      {
       "output_type": "stream",
       "stream": "stdout",
       "text": [
        "\n",
        "0.36 done"
       ]
      },
      {
       "output_type": "stream",
       "stream": "stdout",
       "text": [
        "\n",
        "0.38 done"
       ]
      },
      {
       "output_type": "stream",
       "stream": "stdout",
       "text": [
        "\n",
        "0.39 done"
       ]
      },
      {
       "output_type": "stream",
       "stream": "stdout",
       "text": [
        "\n",
        "0.41 done"
       ]
      },
      {
       "output_type": "stream",
       "stream": "stdout",
       "text": [
        "\n",
        "0.42 done"
       ]
      },
      {
       "output_type": "stream",
       "stream": "stdout",
       "text": [
        "\n",
        "0.44 done"
       ]
      },
      {
       "output_type": "stream",
       "stream": "stdout",
       "text": [
        "\n",
        "0.45 done"
       ]
      },
      {
       "output_type": "stream",
       "stream": "stdout",
       "text": [
        "\n",
        "0.47 done"
       ]
      },
      {
       "output_type": "stream",
       "stream": "stdout",
       "text": [
        "\n",
        "0.48 done"
       ]
      },
      {
       "output_type": "stream",
       "stream": "stdout",
       "text": [
        "\n",
        "0.50 done"
       ]
      },
      {
       "output_type": "stream",
       "stream": "stdout",
       "text": [
        "\n",
        "0.52 done"
       ]
      },
      {
       "output_type": "stream",
       "stream": "stdout",
       "text": [
        "\n",
        "0.53 done"
       ]
      },
      {
       "output_type": "stream",
       "stream": "stdout",
       "text": [
        "\n",
        "0.55 done"
       ]
      },
      {
       "output_type": "stream",
       "stream": "stdout",
       "text": [
        "\n",
        "0.56 done"
       ]
      },
      {
       "output_type": "stream",
       "stream": "stdout",
       "text": [
        "\n",
        "0.58 done"
       ]
      },
      {
       "output_type": "stream",
       "stream": "stdout",
       "text": [
        "\n",
        "0.59 done"
       ]
      },
      {
       "output_type": "stream",
       "stream": "stdout",
       "text": [
        "\n",
        "0.61 done"
       ]
      },
      {
       "output_type": "stream",
       "stream": "stdout",
       "text": [
        "\n",
        "0.62 done"
       ]
      },
      {
       "output_type": "stream",
       "stream": "stdout",
       "text": [
        "\n",
        "0.64 done"
       ]
      },
      {
       "output_type": "stream",
       "stream": "stdout",
       "text": [
        "\n",
        "0.66 done"
       ]
      },
      {
       "output_type": "stream",
       "stream": "stdout",
       "text": [
        "\n",
        "0.67 done"
       ]
      },
      {
       "output_type": "stream",
       "stream": "stdout",
       "text": [
        "\n",
        "0.69 done"
       ]
      },
      {
       "output_type": "stream",
       "stream": "stdout",
       "text": [
        "\n",
        "0.70 done"
       ]
      },
      {
       "output_type": "stream",
       "stream": "stdout",
       "text": [
        "\n",
        "0.72 done"
       ]
      },
      {
       "output_type": "stream",
       "stream": "stdout",
       "text": [
        "\n",
        "0.73 done"
       ]
      },
      {
       "output_type": "stream",
       "stream": "stdout",
       "text": [
        "\n",
        "0.75 done"
       ]
      },
      {
       "output_type": "stream",
       "stream": "stdout",
       "text": [
        "\n",
        "0.77 done"
       ]
      },
      {
       "output_type": "stream",
       "stream": "stdout",
       "text": [
        "\n",
        "0.78 done"
       ]
      },
      {
       "output_type": "stream",
       "stream": "stdout",
       "text": [
        "\n",
        "0.80 done"
       ]
      },
      {
       "output_type": "stream",
       "stream": "stdout",
       "text": [
        "\n",
        "0.81 done"
       ]
      },
      {
       "output_type": "stream",
       "stream": "stdout",
       "text": [
        "\n",
        "0.83 done"
       ]
      },
      {
       "output_type": "stream",
       "stream": "stdout",
       "text": [
        "\n",
        "0.84 done"
       ]
      },
      {
       "output_type": "stream",
       "stream": "stdout",
       "text": [
        "\n",
        "0.86 done"
       ]
      },
      {
       "output_type": "stream",
       "stream": "stdout",
       "text": [
        "\n",
        "0.88 done"
       ]
      },
      {
       "output_type": "stream",
       "stream": "stdout",
       "text": [
        "\n",
        "0.89 done"
       ]
      },
      {
       "output_type": "stream",
       "stream": "stdout",
       "text": [
        "\n",
        "0.91 done"
       ]
      },
      {
       "output_type": "stream",
       "stream": "stdout",
       "text": [
        "\n",
        "0.92 done"
       ]
      },
      {
       "output_type": "stream",
       "stream": "stdout",
       "text": [
        "\n",
        "0.94 done"
       ]
      },
      {
       "output_type": "stream",
       "stream": "stdout",
       "text": [
        "\n",
        "0.95 done"
       ]
      },
      {
       "output_type": "stream",
       "stream": "stdout",
       "text": [
        "\n",
        "0.97 done"
       ]
      },
      {
       "output_type": "stream",
       "stream": "stdout",
       "text": [
        "\n",
        "0.98 done"
       ]
      },
      {
       "output_type": "stream",
       "stream": "stdout",
       "text": [
        "\n",
        "1.00 done"
       ]
      },
      {
       "output_type": "stream",
       "stream": "stdout",
       "text": [
        "\n",
        "done\n"
       ]
      }
     ],
     "prompt_number": 3
    },
    {
     "cell_type": "code",
     "collapsed": false,
     "input": [
      "plt.figure()\n",
      "for ii in range(GD_bins):\n",
      "    plt.plot(His2d_w.values[ii,:,:,:].sum(axis=0).sum(axis=0)/His2d.values[ii,:,:,:].sum(axis=0).sum(axis=0),label=His2d.centers[0][ii])\n",
      "plt.legend()"
     ],
     "language": "python",
     "metadata": {},
     "outputs": [
      {
       "javascript": [
        "/* Put everything inside the global mpl namespace */\n",
        "window.mpl = {};\n",
        "\n",
        "mpl.get_websocket_type = function() {\n",
        "    if (typeof(WebSocket) !== 'undefined') {\n",
        "        return WebSocket;\n",
        "    } else if (typeof(MozWebSocket) !== 'undefined') {\n",
        "        return MozWebSocket;\n",
        "    } else {\n",
        "        alert('Your browser does not have WebSocket support.' +\n",
        "              'Please try Chrome, Safari or Firefox \u2265 6. ' +\n",
        "              'Firefox 4 and 5 are also supported but you ' +\n",
        "              'have to enable WebSockets in about:config.');\n",
        "    };\n",
        "}\n",
        "\n",
        "mpl.figure = function(figure_id, websocket, ondownload, parent_element) {\n",
        "    this.id = figure_id;\n",
        "\n",
        "    this.ws = websocket;\n",
        "\n",
        "    this.supports_binary = (this.ws.binaryType != undefined);\n",
        "\n",
        "    if (!this.supports_binary) {\n",
        "        var warnings = document.getElementById(\"mpl-warnings\");\n",
        "        if (warnings) {\n",
        "            warnings.style.display = 'block';\n",
        "            warnings.textContent = (\n",
        "                \"This browser does not support binary websocket messages. \" +\n",
        "                    \"Performance may be slow.\");\n",
        "        }\n",
        "    }\n",
        "\n",
        "    this.imageObj = new Image();\n",
        "\n",
        "    this.context = undefined;\n",
        "    this.message = undefined;\n",
        "    this.canvas = undefined;\n",
        "    this.rubberband_canvas = undefined;\n",
        "    this.rubberband_context = undefined;\n",
        "    this.format_dropdown = undefined;\n",
        "\n",
        "    this.image_mode = 'full';\n",
        "\n",
        "    this.root = $('<div/>');\n",
        "    this._root_extra_style(this.root)\n",
        "    this.root.attr('style', 'display: inline-block');\n",
        "\n",
        "    $(parent_element).append(this.root);\n",
        "\n",
        "    this._init_header(this);\n",
        "    this._init_canvas(this);\n",
        "    this._init_toolbar(this);\n",
        "\n",
        "    var fig = this;\n",
        "\n",
        "    this.waiting = false;\n",
        "\n",
        "    this.ws.onopen =  function () {\n",
        "            fig.send_message(\"supports_binary\", {value: fig.supports_binary});\n",
        "            fig.send_message(\"send_image_mode\", {});\n",
        "            fig.send_message(\"refresh\", {});\n",
        "        }\n",
        "\n",
        "    this.imageObj.onload = function() {\n",
        "            if (fig.image_mode == 'full') {\n",
        "                // Full images could contain transparency (where diff images\n",
        "                // almost always do), so we need to clear the canvas so that\n",
        "                // there is no ghosting.\n",
        "                fig.context.clearRect(0, 0, fig.canvas.width, fig.canvas.height);\n",
        "            }\n",
        "            fig.context.drawImage(fig.imageObj, 0, 0);\n",
        "            fig.waiting = false;\n",
        "        };\n",
        "\n",
        "    this.imageObj.onunload = function() {\n",
        "        this.ws.close();\n",
        "    }\n",
        "\n",
        "    this.ws.onmessage = this._make_on_message_function(this);\n",
        "\n",
        "    this.ondownload = ondownload;\n",
        "}\n",
        "\n",
        "mpl.figure.prototype._init_header = function() {\n",
        "    var titlebar = $(\n",
        "        '<div class=\"ui-dialog-titlebar ui-widget-header ui-corner-all ' +\n",
        "        'ui-helper-clearfix\"/>');\n",
        "    var titletext = $(\n",
        "        '<div class=\"ui-dialog-title\" style=\"width: 100%; ' +\n",
        "        'text-align: center; padding: 3px;\"/>');\n",
        "    titlebar.append(titletext)\n",
        "    this.root.append(titlebar);\n",
        "    this.header = titletext[0];\n",
        "}\n",
        "\n",
        "\n",
        "\n",
        "mpl.figure.prototype._canvas_extra_style = function(canvas_div) {\n",
        "\n",
        "}\n",
        "\n",
        "\n",
        "mpl.figure.prototype._root_extra_style = function(canvas_div) {\n",
        "\n",
        "}\n",
        "\n",
        "mpl.figure.prototype._init_canvas = function() {\n",
        "    var fig = this;\n",
        "\n",
        "    var canvas_div = $('<div/>');\n",
        "\n",
        "    canvas_div.attr('style', 'position: relative; clear: both; outline: 0');\n",
        "\n",
        "    function canvas_keyboard_event(event) {\n",
        "        return fig.key_event(event, event['data']);\n",
        "    }\n",
        "\n",
        "    canvas_div.keydown('key_press', canvas_keyboard_event);\n",
        "    canvas_div.keyup('key_release', canvas_keyboard_event);\n",
        "    this.canvas_div = canvas_div\n",
        "    this._canvas_extra_style(canvas_div)\n",
        "    this.root.append(canvas_div);\n",
        "\n",
        "    var canvas = $('<canvas/>');\n",
        "    canvas.addClass('mpl-canvas');\n",
        "    canvas.attr('style', \"left: 0; top: 0; z-index: 0; outline: 0\")\n",
        "\n",
        "    this.canvas = canvas[0];\n",
        "    this.context = canvas[0].getContext(\"2d\");\n",
        "\n",
        "    var rubberband = $('<canvas/>');\n",
        "    rubberband.attr('style', \"position: absolute; left: 0; top: 0; z-index: 1;\")\n",
        "\n",
        "    var pass_mouse_events = true;\n",
        "\n",
        "    canvas_div.resizable({\n",
        "        start: function(event, ui) {\n",
        "            pass_mouse_events = false;\n",
        "        },\n",
        "        resize: function(event, ui) {\n",
        "            fig.request_resize(ui.size.width, ui.size.height);\n",
        "        },\n",
        "        stop: function(event, ui) {\n",
        "            pass_mouse_events = true;\n",
        "            fig.request_resize(ui.size.width, ui.size.height);\n",
        "        },\n",
        "    });\n",
        "\n",
        "    function mouse_event_fn(event) {\n",
        "        if (pass_mouse_events)\n",
        "            return fig.mouse_event(event, event['data']);\n",
        "    }\n",
        "\n",
        "    rubberband.mousedown('button_press', mouse_event_fn);\n",
        "    rubberband.mouseup('button_release', mouse_event_fn);\n",
        "    // Throttle sequential mouse events to 1 every 20ms.\n",
        "    rubberband.mousemove('motion_notify', mouse_event_fn);\n",
        "\n",
        "    rubberband.mouseenter('figure_enter', mouse_event_fn);\n",
        "    rubberband.mouseleave('figure_leave', mouse_event_fn);\n",
        "\n",
        "    canvas_div.on(\"wheel\", function (event) {\n",
        "        event = event.originalEvent;\n",
        "        event['data'] = 'scroll'\n",
        "        if (event.deltaY < 0) {\n",
        "            event.step = 1;\n",
        "        } else {\n",
        "            event.step = -1;\n",
        "        }\n",
        "        mouse_event_fn(event);\n",
        "    });\n",
        "\n",
        "    canvas_div.append(canvas);\n",
        "    canvas_div.append(rubberband);\n",
        "\n",
        "    this.rubberband = rubberband;\n",
        "    this.rubberband_canvas = rubberband[0];\n",
        "    this.rubberband_context = rubberband[0].getContext(\"2d\");\n",
        "    this.rubberband_context.strokeStyle = \"#000000\";\n",
        "\n",
        "    this._resize_canvas = function(width, height) {\n",
        "        // Keep the size of the canvas, canvas container, and rubber band\n",
        "        // canvas in synch.\n",
        "        canvas_div.css('width', width)\n",
        "        canvas_div.css('height', height)\n",
        "\n",
        "        canvas.attr('width', width);\n",
        "        canvas.attr('height', height);\n",
        "\n",
        "        rubberband.attr('width', width);\n",
        "        rubberband.attr('height', height);\n",
        "    }\n",
        "\n",
        "    // Set the figure to an initial 600x600px, this will subsequently be updated\n",
        "    // upon first draw.\n",
        "    this._resize_canvas(600, 600);\n",
        "\n",
        "    // Disable right mouse context menu.\n",
        "    $(this.rubberband_canvas).bind(\"contextmenu\",function(e){\n",
        "        return false;\n",
        "    });\n",
        "\n",
        "    function set_focus () {\n",
        "        canvas.focus();\n",
        "        canvas_div.focus();\n",
        "    }\n",
        "\n",
        "    window.setTimeout(set_focus, 100);\n",
        "}\n",
        "\n",
        "mpl.figure.prototype._init_toolbar = function() {\n",
        "    var fig = this;\n",
        "\n",
        "    var nav_element = $('<div/>')\n",
        "    nav_element.attr('style', 'width: 100%');\n",
        "    this.root.append(nav_element);\n",
        "\n",
        "    // Define a callback function for later on.\n",
        "    function toolbar_event(event) {\n",
        "        return fig.toolbar_button_onclick(event['data']);\n",
        "    }\n",
        "    function toolbar_mouse_event(event) {\n",
        "        return fig.toolbar_button_onmouseover(event['data']);\n",
        "    }\n",
        "\n",
        "    for(var toolbar_ind in mpl.toolbar_items) {\n",
        "        var name = mpl.toolbar_items[toolbar_ind][0];\n",
        "        var tooltip = mpl.toolbar_items[toolbar_ind][1];\n",
        "        var image = mpl.toolbar_items[toolbar_ind][2];\n",
        "        var method_name = mpl.toolbar_items[toolbar_ind][3];\n",
        "\n",
        "        if (!name) {\n",
        "            // put a spacer in here.\n",
        "            continue;\n",
        "        }\n",
        "        var button = $('<button/>');\n",
        "        button.addClass('ui-button ui-widget ui-state-default ui-corner-all ' +\n",
        "                        'ui-button-icon-only');\n",
        "        button.attr('role', 'button');\n",
        "        button.attr('aria-disabled', 'false');\n",
        "        button.click(method_name, toolbar_event);\n",
        "        button.mouseover(tooltip, toolbar_mouse_event);\n",
        "\n",
        "        var icon_img = $('<span/>');\n",
        "        icon_img.addClass('ui-button-icon-primary ui-icon');\n",
        "        icon_img.addClass(image);\n",
        "        icon_img.addClass('ui-corner-all');\n",
        "\n",
        "        var tooltip_span = $('<span/>');\n",
        "        tooltip_span.addClass('ui-button-text');\n",
        "        tooltip_span.html(tooltip);\n",
        "\n",
        "        button.append(icon_img);\n",
        "        button.append(tooltip_span);\n",
        "\n",
        "        nav_element.append(button);\n",
        "    }\n",
        "\n",
        "    var fmt_picker_span = $('<span/>');\n",
        "\n",
        "    var fmt_picker = $('<select/>');\n",
        "    fmt_picker.addClass('mpl-toolbar-option ui-widget ui-widget-content');\n",
        "    fmt_picker_span.append(fmt_picker);\n",
        "    nav_element.append(fmt_picker_span);\n",
        "    this.format_dropdown = fmt_picker[0];\n",
        "\n",
        "    for (var ind in mpl.extensions) {\n",
        "        var fmt = mpl.extensions[ind];\n",
        "        var option = $(\n",
        "            '<option/>', {selected: fmt === mpl.default_extension}).html(fmt);\n",
        "        fmt_picker.append(option)\n",
        "    }\n",
        "\n",
        "    // Add hover states to the ui-buttons\n",
        "    $( \".ui-button\" ).hover(\n",
        "        function() { $(this).addClass(\"ui-state-hover\");},\n",
        "        function() { $(this).removeClass(\"ui-state-hover\");}\n",
        "    );\n",
        "\n",
        "    var status_bar = $('<span class=\"mpl-message\"/>');\n",
        "    nav_element.append(status_bar);\n",
        "    this.message = status_bar[0];\n",
        "}\n",
        "\n",
        "mpl.figure.prototype.request_resize = function(x_pixels, y_pixels) {\n",
        "    // Request matplotlib to resize the figure. Matplotlib will then trigger a resize in the client,\n",
        "    // which will in turn request a refresh of the image.\n",
        "    this.send_message('resize', {'width': x_pixels, 'height': y_pixels});\n",
        "}\n",
        "\n",
        "mpl.figure.prototype.send_message = function(type, properties) {\n",
        "    properties['type'] = type;\n",
        "    properties['figure_id'] = this.id;\n",
        "    this.ws.send(JSON.stringify(properties));\n",
        "}\n",
        "\n",
        "mpl.figure.prototype.send_draw_message = function() {\n",
        "    if (!this.waiting) {\n",
        "        this.waiting = true;\n",
        "        this.ws.send(JSON.stringify({type: \"draw\", figure_id: this.id}));\n",
        "    }\n",
        "}\n",
        "\n",
        "\n",
        "mpl.figure.prototype.handle_save = function(fig, msg) {\n",
        "    var format_dropdown = fig.format_dropdown;\n",
        "    var format = format_dropdown.options[format_dropdown.selectedIndex].value;\n",
        "    fig.ondownload(fig, format);\n",
        "}\n",
        "\n",
        "\n",
        "mpl.figure.prototype.handle_resize = function(fig, msg) {\n",
        "    var size = msg['size'];\n",
        "    if (size[0] != fig.canvas.width || size[1] != fig.canvas.height) {\n",
        "        fig._resize_canvas(size[0], size[1]);\n",
        "        fig.send_message(\"refresh\", {});\n",
        "    };\n",
        "}\n",
        "\n",
        "mpl.figure.prototype.handle_rubberband = function(fig, msg) {\n",
        "    var x0 = msg['x0'];\n",
        "    var y0 = fig.canvas.height - msg['y0'];\n",
        "    var x1 = msg['x1'];\n",
        "    var y1 = fig.canvas.height - msg['y1'];\n",
        "    x0 = Math.floor(x0) + 0.5;\n",
        "    y0 = Math.floor(y0) + 0.5;\n",
        "    x1 = Math.floor(x1) + 0.5;\n",
        "    y1 = Math.floor(y1) + 0.5;\n",
        "    var min_x = Math.min(x0, x1);\n",
        "    var min_y = Math.min(y0, y1);\n",
        "    var width = Math.abs(x1 - x0);\n",
        "    var height = Math.abs(y1 - y0);\n",
        "\n",
        "    fig.rubberband_context.clearRect(\n",
        "        0, 0, fig.canvas.width, fig.canvas.height);\n",
        "\n",
        "    fig.rubberband_context.strokeRect(min_x, min_y, width, height);\n",
        "}\n",
        "\n",
        "mpl.figure.prototype.handle_figure_label = function(fig, msg) {\n",
        "    // Updates the figure title.\n",
        "    fig.header.textContent = msg['label'];\n",
        "}\n",
        "\n",
        "mpl.figure.prototype.handle_cursor = function(fig, msg) {\n",
        "    var cursor = msg['cursor'];\n",
        "    switch(cursor)\n",
        "    {\n",
        "    case 0:\n",
        "        cursor = 'pointer';\n",
        "        break;\n",
        "    case 1:\n",
        "        cursor = 'default';\n",
        "        break;\n",
        "    case 2:\n",
        "        cursor = 'crosshair';\n",
        "        break;\n",
        "    case 3:\n",
        "        cursor = 'move';\n",
        "        break;\n",
        "    }\n",
        "    fig.rubberband_canvas.style.cursor = cursor;\n",
        "}\n",
        "\n",
        "mpl.figure.prototype.handle_message = function(fig, msg) {\n",
        "    fig.message.textContent = msg['message'];\n",
        "}\n",
        "\n",
        "mpl.figure.prototype.handle_draw = function(fig, msg) {\n",
        "    // Request the server to send over a new figure.\n",
        "    fig.send_draw_message();\n",
        "}\n",
        "\n",
        "mpl.figure.prototype.handle_image_mode = function(fig, msg) {\n",
        "    fig.image_mode = msg['mode'];\n",
        "}\n",
        "\n",
        "mpl.figure.prototype.updated_canvas_event = function() {\n",
        "    // Called whenever the canvas gets updated.\n",
        "    this.send_message(\"ack\", {});\n",
        "}\n",
        "\n",
        "// A function to construct a web socket function for onmessage handling.\n",
        "// Called in the figure constructor.\n",
        "mpl.figure.prototype._make_on_message_function = function(fig) {\n",
        "    return function socket_on_message(evt) {\n",
        "        if (evt.data instanceof Blob) {\n",
        "            /* FIXME: We get \"Resource interpreted as Image but\n",
        "             * transferred with MIME type text/plain:\" errors on\n",
        "             * Chrome.  But how to set the MIME type?  It doesn't seem\n",
        "             * to be part of the websocket stream */\n",
        "            evt.data.type = \"image/png\";\n",
        "\n",
        "            /* Free the memory for the previous frames */\n",
        "            if (fig.imageObj.src) {\n",
        "                (window.URL || window.webkitURL).revokeObjectURL(\n",
        "                    fig.imageObj.src);\n",
        "            }\n",
        "\n",
        "            fig.imageObj.src = (window.URL || window.webkitURL).createObjectURL(\n",
        "                evt.data);\n",
        "            fig.updated_canvas_event();\n",
        "            return;\n",
        "        }\n",
        "        else if (typeof evt.data === 'string' && evt.data.slice(0, 21) == \"data:image/png;base64\") {\n",
        "            fig.imageObj.src = evt.data;\n",
        "            fig.updated_canvas_event();\n",
        "            return;\n",
        "        }\n",
        "\n",
        "        var msg = JSON.parse(evt.data);\n",
        "        var msg_type = msg['type'];\n",
        "\n",
        "        // Call the  \"handle_{type}\" callback, which takes\n",
        "        // the figure and JSON message as its only arguments.\n",
        "        try {\n",
        "            var callback = fig[\"handle_\" + msg_type];\n",
        "        } catch (e) {\n",
        "            console.log(\"No handler for the '\" + msg_type + \"' message type: \", msg);\n",
        "            return;\n",
        "        }\n",
        "\n",
        "        if (callback) {\n",
        "            try {\n",
        "                // console.log(\"Handling '\" + msg_type + \"' message: \", msg);\n",
        "                callback(fig, msg);\n",
        "            } catch (e) {\n",
        "                console.log(\"Exception inside the 'handler_\" + msg_type + \"' callback:\", e, e.stack, msg);\n",
        "            }\n",
        "        }\n",
        "    };\n",
        "}\n",
        "\n",
        "// from http://stackoverflow.com/questions/1114465/getting-mouse-location-in-canvas\n",
        "mpl.findpos = function(e) {\n",
        "    //this section is from http://www.quirksmode.org/js/events_properties.html\n",
        "    var targ;\n",
        "    if (!e)\n",
        "        e = window.event;\n",
        "    if (e.target)\n",
        "        targ = e.target;\n",
        "    else if (e.srcElement)\n",
        "        targ = e.srcElement;\n",
        "    if (targ.nodeType == 3) // defeat Safari bug\n",
        "        targ = targ.parentNode;\n",
        "\n",
        "    // jQuery normalizes the pageX and pageY\n",
        "    // pageX,Y are the mouse positions relative to the document\n",
        "    // offset() returns the position of the element relative to the document\n",
        "    var x = e.pageX - $(targ).offset().left;\n",
        "    var y = e.pageY - $(targ).offset().top;\n",
        "\n",
        "    return {\"x\": x, \"y\": y};\n",
        "};\n",
        "\n",
        "mpl.figure.prototype.mouse_event = function(event, name) {\n",
        "    var canvas_pos = mpl.findpos(event)\n",
        "\n",
        "    if (name === 'button_press')\n",
        "    {\n",
        "        this.canvas.focus();\n",
        "        this.canvas_div.focus();\n",
        "    }\n",
        "\n",
        "    var x = canvas_pos.x;\n",
        "    var y = canvas_pos.y;\n",
        "\n",
        "    this.send_message(name, {x: x, y: y, button: event.button,\n",
        "                             step: event.step});\n",
        "\n",
        "    /* This prevents the web browser from automatically changing to\n",
        "     * the text insertion cursor when the button is pressed.  We want\n",
        "     * to control all of the cursor setting manually through the\n",
        "     * 'cursor' event from matplotlib */\n",
        "    event.preventDefault();\n",
        "    return false;\n",
        "}\n",
        "\n",
        "mpl.figure.prototype._key_event_extra = function(event, name) {\n",
        "    // Handle any extra behaviour associated with a key event\n",
        "}\n",
        "\n",
        "mpl.figure.prototype.key_event = function(event, name) {\n",
        "\n",
        "    // Prevent repeat events\n",
        "    if (name == 'key_press')\n",
        "    {\n",
        "        if (event.which === this._key)\n",
        "            return;\n",
        "        else\n",
        "            this._key = event.which;\n",
        "    }\n",
        "    if (name == 'key_release')\n",
        "        this._key = null;\n",
        "\n",
        "    var value = '';\n",
        "    if (event.ctrlKey && event.which != 17)\n",
        "        value += \"ctrl+\";\n",
        "    if (event.altKey && event.which != 18)\n",
        "        value += \"alt+\";\n",
        "    if (event.shiftKey && event.which != 16)\n",
        "        value += \"shift+\";\n",
        "\n",
        "    value += 'k';\n",
        "    value += event.which.toString();\n",
        "\n",
        "    this._key_event_extra(event, name);\n",
        "\n",
        "    this.send_message(name, {key: value});\n",
        "    return false;\n",
        "}\n",
        "\n",
        "mpl.figure.prototype.toolbar_button_onclick = function(name) {\n",
        "    if (name == 'download') {\n",
        "        this.handle_save(this, null);\n",
        "    } else {\n",
        "        this.send_message(\"toolbar_button\", {name: name});\n",
        "    }\n",
        "};\n",
        "\n",
        "mpl.figure.prototype.toolbar_button_onmouseover = function(tooltip) {\n",
        "    this.message.textContent = tooltip;\n",
        "};\n",
        "mpl.toolbar_items = [[\"Home\", \"Reset original view\", \"fa fa-home icon-home\", \"home\"], [\"Back\", \"Back to  previous view\", \"fa fa-arrow-left icon-arrow-left\", \"back\"], [\"Forward\", \"Forward to next view\", \"fa fa-arrow-right icon-arrow-right\", \"forward\"], [\"\", \"\", \"\", \"\"], [\"Pan\", \"Pan axes with left mouse, zoom with right\", \"fa fa-arrows icon-move\", \"pan\"], [\"Zoom\", \"Zoom to rectangle\", \"fa fa-square-o icon-check-empty\", \"zoom\"], [\"\", \"\", \"\", \"\"], [\"Download\", \"Download plot\", \"fa fa-floppy-o icon-save\", \"download\"]];\n",
        "\n",
        "mpl.extensions = [\"eps\", \"jpeg\", \"pdf\", \"png\", \"ps\", \"raw\", \"svg\", \"tif\"];\n",
        "\n",
        "mpl.default_extension = \"png\";var comm_websocket_adapter = function(comm) {\n",
        "    // Create a \"websocket\"-like object which calls the given IPython comm\n",
        "    // object with the appropriate methods. Currently this is a non binary\n",
        "    // socket, so there is still some room for performance tuning.\n",
        "    var ws = {};\n",
        "\n",
        "    ws.close = function() {\n",
        "        comm.close()\n",
        "    };\n",
        "    ws.send = function(m) {\n",
        "        //console.log('sending', m);\n",
        "        comm.send(m);\n",
        "    };\n",
        "    // Register the callback with on_msg.\n",
        "    comm.on_msg(function(msg) {\n",
        "        //console.log('receiving', msg['content']['data'], msg);\n",
        "        // Pass the mpl event to the overriden (by mpl) onmessage function.\n",
        "        ws.onmessage(msg['content']['data'])\n",
        "    });\n",
        "    return ws;\n",
        "}\n",
        "\n",
        "mpl.mpl_figure_comm = function(comm, msg) {\n",
        "    // This is the function which gets called when the mpl process\n",
        "    // starts-up an IPython Comm through the \"matplotlib\" channel.\n",
        "\n",
        "    var id = msg.content.data.id;\n",
        "    // Get hold of the div created by the display call when the Comm\n",
        "    // socket was opened in Python.\n",
        "    var element = $(\"#\" + id);\n",
        "    var ws_proxy = comm_websocket_adapter(comm)\n",
        "\n",
        "    function ondownload(figure, format) {\n",
        "        window.open(figure.imageObj.src);\n",
        "    }\n",
        "\n",
        "    var fig = new mpl.figure(id, ws_proxy,\n",
        "                           ondownload,\n",
        "                           element.get(0));\n",
        "\n",
        "    // Call onopen now - mpl needs it, as it is assuming we've passed it a real\n",
        "    // web socket which is closed, not our websocket->open comm proxy.\n",
        "    ws_proxy.onopen();\n",
        "\n",
        "    fig.parent_element = element.get(0);\n",
        "    fig.cell_info = mpl.find_output_cell(\"<div id='\" + id + \"'></div>\");\n",
        "    if (!fig.cell_info) {\n",
        "        console.error(\"Failed to find cell for figure\", id, fig);\n",
        "        return;\n",
        "    }\n",
        "\n",
        "    var output_index = fig.cell_info[2]\n",
        "    var cell = fig.cell_info[0];\n",
        "\n",
        "};\n",
        "\n",
        "mpl.figure.prototype.handle_close = function(fig, msg) {\n",
        "    // Update the output cell to use the data from the current canvas.\n",
        "    fig.push_to_output();\n",
        "    var dataURL = fig.canvas.toDataURL();\n",
        "    // Re-enable the keyboard manager in IPython - without this line, in FF,\n",
        "    // the notebook keyboard shortcuts fail.\n",
        "    IPython.keyboard_manager.enable()\n",
        "    $(fig.parent_element).html('<img src=\"' + dataURL + '\">');\n",
        "    fig.send_message('closing', {});\n",
        "    fig.ws.close()\n",
        "}\n",
        "\n",
        "mpl.figure.prototype.push_to_output = function(remove_interactive) {\n",
        "    // Turn the data on the canvas into data in the output cell.\n",
        "    var dataURL = this.canvas.toDataURL();\n",
        "    this.cell_info[1]['text/html'] = '<img src=\"' + dataURL + '\">';\n",
        "}\n",
        "\n",
        "mpl.figure.prototype.updated_canvas_event = function() {\n",
        "    // Tell IPython that the notebook contents must change.\n",
        "    IPython.notebook.set_dirty(true);\n",
        "    this.send_message(\"ack\", {});\n",
        "    var fig = this;\n",
        "    // Wait a second, then push the new image to the DOM so\n",
        "    // that it is saved nicely (might be nice to debounce this).\n",
        "    setTimeout(function () { fig.push_to_output() }, 1000);\n",
        "}\n",
        "\n",
        "mpl.figure.prototype._init_toolbar = function() {\n",
        "    var fig = this;\n",
        "\n",
        "    var nav_element = $('<div/>')\n",
        "    nav_element.attr('style', 'width: 100%');\n",
        "    this.root.append(nav_element);\n",
        "\n",
        "    // Define a callback function for later on.\n",
        "    function toolbar_event(event) {\n",
        "        return fig.toolbar_button_onclick(event['data']);\n",
        "    }\n",
        "    function toolbar_mouse_event(event) {\n",
        "        return fig.toolbar_button_onmouseover(event['data']);\n",
        "    }\n",
        "\n",
        "    for(var toolbar_ind in mpl.toolbar_items){\n",
        "        var name = mpl.toolbar_items[toolbar_ind][0];\n",
        "        var tooltip = mpl.toolbar_items[toolbar_ind][1];\n",
        "        var image = mpl.toolbar_items[toolbar_ind][2];\n",
        "        var method_name = mpl.toolbar_items[toolbar_ind][3];\n",
        "\n",
        "        if (!name) { continue; };\n",
        "\n",
        "        var button = $('<button class=\"btn btn-default\" href=\"#\" title=\"' + name + '\"><i class=\"fa ' + image + ' fa-lg\"></i></button>');\n",
        "        button.click(method_name, toolbar_event);\n",
        "        button.mouseover(tooltip, toolbar_mouse_event);\n",
        "        nav_element.append(button);\n",
        "    }\n",
        "\n",
        "    // Add the status bar.\n",
        "    var status_bar = $('<span class=\"mpl-message\" style=\"text-align:right; float: right;\"/>');\n",
        "    nav_element.append(status_bar);\n",
        "    this.message = status_bar[0];\n",
        "\n",
        "    // Add the close button to the window.\n",
        "    var buttongrp = $('<div class=\"btn-group inline pull-right\"></div>');\n",
        "    var button = $('<button class=\"btn btn-mini btn-danger\" href=\"#\" title=\"Close figure\"><i class=\"fa fa-times icon-remove icon-large\"></i></button>');\n",
        "    button.click(function (evt) { fig.handle_close(fig, {}); } );\n",
        "    button.mouseover('Close figure', toolbar_mouse_event);\n",
        "    buttongrp.append(button);\n",
        "    var titlebar = this.root.find($('.ui-dialog-titlebar'));\n",
        "    titlebar.prepend(buttongrp);\n",
        "}\n",
        "\n",
        "\n",
        "mpl.figure.prototype._canvas_extra_style = function(el){\n",
        "    // this is important to make the div 'focusable\n",
        "    el.attr('tabindex', 0)\n",
        "    // reach out to IPython and tell the keyboard manager to turn it's self\n",
        "    // off when our div gets focus\n",
        "\n",
        "    // location in version 3\n",
        "    if (IPython.notebook.keyboard_manager) {\n",
        "        IPython.notebook.keyboard_manager.register_events(el);\n",
        "    }\n",
        "    else {\n",
        "        // location in version 2\n",
        "        IPython.keyboard_manager.register_events(el);\n",
        "    }\n",
        "\n",
        "}\n",
        "\n",
        "mpl.figure.prototype._key_event_extra = function(event, name) {\n",
        "    var manager = IPython.notebook.keyboard_manager;\n",
        "    if (!manager)\n",
        "        manager = IPython.keyboard_manager;\n",
        "\n",
        "    // Check for shift+enter\n",
        "    if (event.shiftKey && event.which == 13) {\n",
        "        this.canvas_div.blur();\n",
        "        event.shiftKey = false;\n",
        "        // Send a \"J\" for go to next cell\n",
        "        event.which = 74;\n",
        "        event.keyCode = 74;\n",
        "        manager.command_mode();\n",
        "        manager.handle_keydown(event);\n",
        "    }\n",
        "}\n",
        "\n",
        "mpl.figure.prototype.handle_save = function(fig, msg) {\n",
        "    fig.ondownload(fig, null);\n",
        "}\n",
        "\n",
        "\n",
        "mpl.find_output_cell = function(html_output) {\n",
        "    // Return the cell and output element which can be found *uniquely* in the notebook.\n",
        "    // Note - this is a bit hacky, but it is done because the \"notebook_saving.Notebook\"\n",
        "    // IPython event is triggered only after the cells have been serialised, which for\n",
        "    // our purposes (turning an active figure into a static one), is too late.\n",
        "    var cells = IPython.notebook.get_cells();\n",
        "    var ncells = cells.length;\n",
        "    for (var i=0; i<ncells; i++) {\n",
        "        var cell = cells[i];\n",
        "        if (cell.cell_type === 'code'){\n",
        "            for (var j=0; j<cell.output_area.outputs.length; j++) {\n",
        "                var data = cell.output_area.outputs[j];\n",
        "                if (data.data) {\n",
        "                    // IPython >= 3 moved mimebundle to data attribute of output\n",
        "                    data = data.data;\n",
        "                }\n",
        "                if (data['text/html'] == html_output) {\n",
        "                    return [cell, data, j];\n",
        "                }\n",
        "            }\n",
        "        }\n",
        "    }\n",
        "}\n",
        "\n",
        "// Register the function which deals with the matplotlib target/channel.\n",
        "// The kernel may be null if the page has been refreshed.\n",
        "if (IPython.notebook.kernel != null) {\n",
        "    IPython.notebook.kernel.comm_manager.register_target('matplotlib', mpl.mpl_figure_comm);\n",
        "}\n"
       ],
       "metadata": {},
       "output_type": "display_data",
       "text": [
        "<IPython.core.display.Javascript at 0x7fda91a7de50>"
       ]
      },
      {
       "html": [
        "<img src=\"data:image/png;base64,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\">"
       ],
       "metadata": {},
       "output_type": "display_data",
       "text": [
        "<IPython.core.display.HTML at 0x7fda91a7ded0>"
       ]
      },
      {
       "metadata": {},
       "output_type": "pyout",
       "prompt_number": 9,
       "text": [
        "<matplotlib.legend.Legend at 0x7fda91a88110>"
       ]
      }
     ],
     "prompt_number": 9
    },
    {
     "cell_type": "code",
     "collapsed": false,
     "input": [
      "print UXSpc[0]\n",
      "print UXSpc[3]\n",
      "print data['GasDetector'][evt,0]\n",
      "print energy1_max\n",
      "print energy1_min\n",
      "print energy_threshold\n",
      "print UXSpc[5]\n",
      "print GD_min\n",
      "print GD_max\n",
      "print energy2_min\n",
      "print energy2_max"
     ],
     "language": "python",
     "metadata": {},
     "outputs": []
    }
   ],
   "metadata": {}
  }
 ]
}