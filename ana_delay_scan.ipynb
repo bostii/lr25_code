{
 "metadata": {
  "name": "",
  "signature": "sha256:0d601cce741f2ddf06a5f38002f46de4d719310db70a3b2ad05d751939531a9d"
 },
 "nbformat": 3,
 "nbformat_minor": 0,
 "worksheets": [
  {
   "cells": [
    {
     "cell_type": "code",
     "collapsed": false,
     "input": [
      "from psana import *\n",
      "import numpy as np\n",
      "import os\n",
      "import matplotlib.pyplot as plt\n",
      "from skbeam.core.accumulators.histogram import Histogram\n",
      "%matplotlib nbagg\n",
      "\n",
      "run = 76\n",
      "folder = \"/reg/d/psdm/AMO/amolr2516/results/npzfiles/run00%d\" %run\n",
      "files = os.listdir(folder)"
     ],
     "language": "python",
     "metadata": {},
     "outputs": [],
     "prompt_number": 2
    },
    {
     "cell_type": "code",
     "collapsed": false,
     "input": [
      "for fi in files:\n",
      "    data=np.load(os.path.join(folder,fi))\n",
      "    break"
     ],
     "language": "python",
     "metadata": {},
     "outputs": [],
     "prompt_number": 8
    },
    {
     "cell_type": "code",
     "collapsed": false,
     "input": [
      "data.keys()"
     ],
     "language": "python",
     "metadata": {},
     "outputs": [
      {
       "metadata": {},
       "output_type": "pyout",
       "prompt_number": 9,
       "text": [
        "['UXSpc',\n",
        " 'ITOF',\n",
        " 'GasDetector',\n",
        " 'TimeStamp',\n",
        " 'UXSwf',\n",
        " 'SHESHits',\n",
        " 'Pressure',\n",
        " 'SHESwf',\n",
        " 'EnvVar',\n",
        " 'EBeamParameters',\n",
        " 'XTCAV']"
       ]
      }
     ],
     "prompt_number": 9
    },
    {
     "cell_type": "code",
     "collapsed": false,
     "input": [],
     "language": "python",
     "metadata": {},
     "outputs": []
    }
   ],
   "metadata": {}
  }
 ]
}